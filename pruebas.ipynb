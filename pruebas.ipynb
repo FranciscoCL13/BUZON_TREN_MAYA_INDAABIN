{
 "cells": [
  {
   "cell_type": "code",
   "execution_count": 4,
   "id": "aa7867e8",
   "metadata": {},
   "outputs": [],
   "source": [
    "import sqlite3\n",
    "import os\n",
    "\n",
    "# Ruta absoluta o relativa a tu base de datos\n",
    "# db_path = os.path.join('flask_trazos', 'instance', 'database.db')\n",
    "db_path = r'C:\\Users\\francisco.contreras\\Desktop\\jupyter-projects\\notebooks\\APIs\\flask_trazos_v3\\flask_trazos\\instance\\avaluo.db'\n",
    "\n",
    "# Conexión a la base de datos\n",
    "conn = sqlite3.connect(db_path)\n",
    "\n",
    "# Permitir acceder a las columnas como diccionario (opcional pero útil)\n",
    "conn.row_factory = sqlite3.Row\n",
    "\n",
    "# Crear cursor para ejecutar consultas\n",
    "cursor = conn.cursor()\n"
   ]
  },
  {
   "cell_type": "code",
   "execution_count": 7,
   "id": "cb782db3",
   "metadata": {},
   "outputs": [],
   "source": [
    "conn = sqlite3.connect(db_path)\n",
    "conn.row_factory = sqlite3.Row  # permite acceder a los nombres de columna\n",
    "cursor = conn.cursor()"
   ]
  },
  {
   "cell_type": "code",
   "execution_count": 1,
   "id": "39a1edd4",
   "metadata": {},
   "outputs": [
    {
     "name": "stdout",
     "output_type": "stream",
     "text": [
      "Tablas en la base de datos:\n",
      "avaluo_maestro\n",
      "emision_avaluo\n",
      "sqlite_sequence\n",
      "emision_avaluo_v2\n"
     ]
    }
   ],
   "source": [
    "import sqlite3\n",
    "\n",
    "db_path = r'C:\\Users\\francisco.contreras\\Desktop\\jupyter-projects\\notebooks\\APIs\\flask_trazos_v3\\buzon\\instance\\avaluo.db'\n",
    "\n",
    "# Abrimos la conexión\n",
    "conn = sqlite3.connect(db_path)\n",
    "cursor = conn.cursor()\n",
    "\n",
    "# Ejecutamos la consulta para obtener nombres de tablas\n",
    "cursor.execute(\"SELECT name FROM sqlite_master WHERE type='table';\")\n",
    "tablas = cursor.fetchall()\n",
    "\n",
    "print(\"Tablas en la base de datos:\")\n",
    "for tabla in tablas:\n",
    "    print(tabla[0])\n",
    "\n",
    "# Cerramos la conexión cuando terminamos\n",
    "conn.close()\n"
   ]
  },
  {
   "cell_type": "code",
   "execution_count": 7,
   "id": "1b835d06",
   "metadata": {},
   "outputs": [
    {
     "name": "stdout",
     "output_type": "stream",
     "text": [
      "La columna hash_archivo ya existe, no se agregó.\n"
     ]
    }
   ],
   "source": [
    "import sqlite3\n",
    "\n",
    "conn = sqlite3.connect(r'C:\\Users\\francisco.contreras\\Desktop\\jupyter-projects\\notebooks\\APIs\\flask_trazos_v3\\buzon\\instance\\avaluo.db')\n",
    "cursor = conn.cursor()\n",
    "\n",
    "try:\n",
    "    cursor.execute(\"ALTER TABLE emision_avaluo_v2 ADD COLUMN hash_archivo TEXT;\")\n",
    "    conn.commit()\n",
    "    print(\"Columna hash_archivo agregada correctamente.\")\n",
    "except sqlite3.OperationalError as e:\n",
    "    if \"duplicate column name\" in str(e).lower():\n",
    "        print(\"La columna hash_archivo ya existe, no se agregó.\")\n",
    "    else:\n",
    "        raise\n",
    "finally:\n",
    "    cursor.close()\n",
    "    conn.close()\n"
   ]
  },
  {
   "cell_type": "code",
   "execution_count": 8,
   "id": "ff994fd4",
   "metadata": {},
   "outputs": [
    {
     "name": "stdout",
     "output_type": "stream",
     "text": [
      "{'id': 1, 'rfc': 'NNNN141414NNN', 'nombre': 'ELENA VARGAS', 'clave': 'AVAL-014', 'fecha': '2025-06-14', 'servidor': 'ROBERTO DÍAZ', 'fuente': 'INDAABIN', 'costo': 'PERITO CATORCE', 'fecha_pago': '2025-06-23', 'comprobante_numero': 'COMP-014', 'clc_numero': 'CLC-014', 'archivo_comprobante': 'comp_014.pdf', 'archivo_clc': 'clc_014.pdf', 'firma_digital': 'FIRMA_DUMMY_014', 'fecha_firmada': '2025-06-28'}\n",
      "{'id': 2, 'rfc': 'OOOO151515OOO', 'nombre': 'FERNANDO MEJÍA', 'clave': 'AVAL-015', 'fecha': '2025-06-15', 'servidor': 'SANDRA MORALES', 'fuente': 'INDAABIN', 'costo': 'PERITO QUINCE', 'fecha_pago': '2025-06-24', 'comprobante_numero': 'COMP-015', 'clc_numero': 'CLC-015', 'archivo_comprobante': 'comp_015.pdf', 'archivo_clc': 'clc_015.pdf', 'firma_digital': 'FIRMA_DUMMY_015', 'fecha_firmada': '2025-06-29'}\n",
      "{'id': 3, 'rfc': 'PPPP161616PPP', 'nombre': 'SUSANA PÉREZ', 'clave': 'AVAL-016', 'fecha': '2025-06-16', 'servidor': 'MIGUEL ANGEL', 'fuente': 'INDAABIN', 'costo': 'PERITO DIECISÉIS', 'fecha_pago': '2025-06-25', 'comprobante_numero': 'COMP-016', 'clc_numero': 'CLC-016', 'archivo_comprobante': 'comp_016.pdf', 'archivo_clc': 'clc_016.pdf', 'firma_digital': 'FIRMA_DUMMY_016', 'fecha_firmada': '2025-06-30'}\n",
      "{'id': 4, 'rfc': 'QQQQ171717QQQ', 'nombre': 'RAFAEL TORRES', 'clave': 'AVAL-017', 'fecha': '2025-06-17', 'servidor': 'GLORIA SALAS', 'fuente': 'INDAABIN', 'costo': 'PERITO DIECISIETE', 'fecha_pago': '2025-06-26', 'comprobante_numero': 'COMP-017', 'clc_numero': 'CLC-017', 'archivo_comprobante': 'comp_017.pdf', 'archivo_clc': 'clc_017.pdf', 'firma_digital': 'FIRMA_DUMMY_017', 'fecha_firmada': '2025-07-01'}\n",
      "{'id': 5, 'rfc': 'RRRR181818RRR', 'nombre': 'LUISA GONZÁLEZ', 'clave': 'AVAL-018', 'fecha': '2025-06-18', 'servidor': 'CARLOS MENDOZA', 'fuente': 'INDAABIN', 'costo': 'PERITO DIECIOCHO', 'fecha_pago': '2025-06-27', 'comprobante_numero': 'COMP-018', 'clc_numero': 'CLC-018', 'archivo_comprobante': 'comp_018.pdf', 'archivo_clc': 'clc_018.pdf', 'firma_digital': 'FIRMA_DUMMY_018', 'fecha_firmada': '2025-07-02'}\n",
      "{'id': 6, 'rfc': 'SSSS191919SSS', 'nombre': 'ENRIQUE RAMÍREZ', 'clave': 'AVAL-019', 'fecha': '2025-06-19', 'servidor': 'ELENA SOTO', 'fuente': 'INDAABIN', 'costo': 'PERITO DIECINUEVE', 'fecha_pago': '2025-06-28', 'comprobante_numero': 'COMP-019', 'clc_numero': 'CLC-019', 'archivo_comprobante': 'comp_019.pdf', 'archivo_clc': 'clc_019.pdf', 'firma_digital': 'FIRMA_DUMMY_019', 'fecha_firmada': '2025-07-03'}\n",
      "{'id': 7, 'rfc': 'TTTT202020TTT', 'nombre': 'ANA MARTÍNEZ', 'clave': 'AVAL-020', 'fecha': '2025-06-20', 'servidor': 'FERNANDO LÓPEZ', 'fuente': 'INDAABIN', 'costo': 'PERITO VEINTE', 'fecha_pago': '2025-06-29', 'comprobante_numero': 'COMP-020', 'clc_numero': 'CLC-020', 'archivo_comprobante': 'comp_020.pdf', 'archivo_clc': 'clc_020.pdf', 'firma_digital': 'FIRMA_DUMMY_020', 'fecha_firmada': '2025-07-04'}\n",
      "{'id': 8, 'rfc': 'UUUU212121UUU', 'nombre': 'JORGE CASTILLO', 'clave': 'AVAL-021', 'fecha': '2025-06-21', 'servidor': 'SUSANA VERA', 'fuente': 'INDAABIN', 'costo': 'PERITO VEINTIUNO', 'fecha_pago': '2025-06-30', 'comprobante_numero': 'COMP-021', 'clc_numero': 'CLC-021', 'archivo_comprobante': 'comp_021.pdf', 'archivo_clc': 'clc_021.pdf', 'firma_digital': 'FIRMA_DUMMY_021', 'fecha_firmada': '2025-07-05'}\n",
      "{'id': 9, 'rfc': 'VVVV222222VVV', 'nombre': 'MARTA LUNA', 'clave': 'AVAL-022', 'fecha': '2025-06-22', 'servidor': 'RICARDO ZÚÑIGA', 'fuente': 'INDAABIN', 'costo': 'PERITO VEINTIDÓS', 'fecha_pago': '2025-07-01', 'comprobante_numero': 'COMP-022', 'clc_numero': 'CLC-022', 'archivo_comprobante': 'comp_022.pdf', 'archivo_clc': 'clc_022.pdf', 'firma_digital': 'FIRMA_DUMMY_022', 'fecha_firmada': '2025-07-06'}\n",
      "{'id': 10, 'rfc': 'WWWW232323WWW', 'nombre': 'RICARDO LARA', 'clave': 'AVAL-023', 'fecha': '2025-06-23', 'servidor': 'PATRICIA FIERRO', 'fuente': 'INDAABIN', 'costo': 'PERITO VEINTITRÉS', 'fecha_pago': '2025-07-02', 'comprobante_numero': 'COMP-023', 'clc_numero': 'CLC-023', 'archivo_comprobante': 'comp_023.pdf', 'archivo_clc': 'clc_023.pdf', 'firma_digital': 'FIRMA_DUMMY_023', 'fecha_firmada': '2025-07-07'}\n",
      "{'id': 11, 'rfc': 'XXXX242424XXX', 'nombre': 'PAULA MONTERO', 'clave': 'AVAL-024', 'fecha': '2025-06-24', 'servidor': 'DANIEL CRUZ', 'fuente': 'INDAABIN', 'costo': 'PERITO VEINTICUATRO', 'fecha_pago': '2025-07-03', 'comprobante_numero': 'COMP-024', 'clc_numero': 'CLC-024', 'archivo_comprobante': 'comp_024.pdf', 'archivo_clc': 'clc_024.pdf', 'firma_digital': 'FIRMA_DUMMY_024', 'fecha_firmada': '2025-07-08'}\n",
      "{'id': 12, 'rfc': 'YYYY252525YYY', 'nombre': 'ALFONSO SANDOVAL', 'clave': 'AVAL-025', 'fecha': '2025-06-25', 'servidor': 'JULIETA RAMOS', 'fuente': 'INDAABIN', 'costo': 'PERITO VEINTICINCO', 'fecha_pago': '2025-07-04', 'comprobante_numero': 'COMP-025', 'clc_numero': 'CLC-025', 'archivo_comprobante': 'comp_025.pdf', 'archivo_clc': 'clc_025.pdf', 'firma_digital': 'FIRMA_DUMMY_025', 'fecha_firmada': '2025-07-09'}\n",
      "{'id': 13, 'rfc': 'ZZZZ262626ZZZ', 'nombre': 'RENATA SÁNCHEZ', 'clave': 'AVAL-026', 'fecha': '2025-06-26', 'servidor': 'FRANCISCO LEYVA', 'fuente': 'INDAABIN', 'costo': 'PERITO VEINTISÉIS', 'fecha_pago': '2025-07-05', 'comprobante_numero': 'COMP-026', 'clc_numero': 'CLC-026', 'archivo_comprobante': 'comp_026.pdf', 'archivo_clc': 'clc_026.pdf', 'firma_digital': 'FIRMA_DUMMY_026', 'fecha_firmada': '2025-07-10'}\n",
      "{'id': 14, 'rfc': 'AAAA272727AAA', 'nombre': 'JULIO DÍAZ', 'clave': 'AVAL-027', 'fecha': '2025-06-27', 'servidor': 'VERÓNICA NAVARRO', 'fuente': 'INDAABIN', 'costo': 'PERITO VEINTISIETE', 'fecha_pago': '2025-07-06', 'comprobante_numero': 'COMP-027', 'clc_numero': 'CLC-027', 'archivo_comprobante': 'comp_027.pdf', 'archivo_clc': 'clc_027.pdf', 'firma_digital': 'FIRMA_DUMMY_027', 'fecha_firmada': '2025-07-11'}\n",
      "{'id': 15, 'rfc': 'BBBB282828BBB', 'nombre': 'MÓNICA REYES', 'clave': 'AVAL-028', 'fecha': '2025-06-28', 'servidor': 'JORGE REYNA', 'fuente': 'INDAABIN', 'costo': 'PERITO VEINTIOCHO', 'fecha_pago': '2025-07-07', 'comprobante_numero': 'COMP-028', 'clc_numero': 'CLC-028', 'archivo_comprobante': 'comp_028.pdf', 'archivo_clc': 'clc_028.pdf', 'firma_digital': 'FIRMA_DUMMY_028', 'fecha_firmada': '2025-07-12'}\n",
      "{'id': 16, 'rfc': 'CCCC292929CCC', 'nombre': 'DIEGO HERRERA', 'clave': 'AVAL-029', 'fecha': '2025-06-29', 'servidor': 'CLAUDIA ORTIZ', 'fuente': 'INDAABIN', 'costo': 'PERITO VEINTINUEVE', 'fecha_pago': '2025-07-08', 'comprobante_numero': 'COMP-029', 'clc_numero': 'CLC-029', 'archivo_comprobante': 'comp_029.pdf', 'archivo_clc': 'clc_029.pdf', 'firma_digital': 'FIRMA_DUMMY_029', 'fecha_firmada': '2025-07-13'}\n",
      "{'id': 17, 'rfc': 'DDDD303030DDD', 'nombre': 'ROCÍO LOZANO', 'clave': 'AVAL-030', 'fecha': '2025-06-30', 'servidor': 'OSCAR NÚÑEZ', 'fuente': 'INDAABIN', 'costo': 'PERITO TREINTA', 'fecha_pago': '2025-07-09', 'comprobante_numero': 'COMP-030', 'clc_numero': 'CLC-030', 'archivo_comprobante': 'comp_030.pdf', 'archivo_clc': 'clc_030.pdf', 'firma_digital': 'FIRMA_DUMMY_030', 'fecha_firmada': '2025-07-14'}\n",
      "{'id': 18, 'rfc': 'EEEE313131EEE', 'nombre': 'CARLOS CARRILLO', 'clave': 'AVAL-031', 'fecha': '2025-07-01', 'servidor': 'LUISA TORO', 'fuente': 'INDAABIN', 'costo': 'PERITO TREINTA Y UNO', 'fecha_pago': '2025-07-10', 'comprobante_numero': 'COMP-031', 'clc_numero': 'CLC-031', 'archivo_comprobante': 'comp_031.pdf', 'archivo_clc': 'clc_031.pdf', 'firma_digital': 'FIRMA_DUMMY_031', 'fecha_firmada': '2025-07-15'}\n",
      "{'id': 19, 'rfc': 'FFFF323232FFF', 'nombre': 'VANESSA RUÍZ', 'clave': 'AVAL-032', 'fecha': '2025-07-02', 'servidor': 'GERARDO MOLINA', 'fuente': 'INDAABIN', 'costo': 'PERITO TREINTA Y DOS', 'fecha_pago': '2025-07-11', 'comprobante_numero': 'COMP-032', 'clc_numero': 'CLC-032', 'archivo_comprobante': 'comp_032.pdf', 'archivo_clc': 'clc_032.pdf', 'firma_digital': 'FIRMA_DUMMY_032', 'fecha_firmada': '2025-07-16'}\n",
      "{'id': 20, 'rfc': 'GGGG333333GGG', 'nombre': 'ISMAEL MARTÍN', 'clave': 'AVAL-033', 'fecha': '2025-07-03', 'servidor': 'ANGÉLICA DELGADO', 'fuente': 'INDAABIN', 'costo': 'PERITO TREINTA Y TRES', 'fecha_pago': '2025-07-12', 'comprobante_numero': 'COMP-033', 'clc_numero': 'CLC-033', 'archivo_comprobante': 'comp_033.pdf', 'archivo_clc': 'clc_033.pdf', 'firma_digital': 'FIRMA_DUMMY_033', 'fecha_firmada': '2025-07-17'}\n"
     ]
    }
   ],
   "source": [
    "import sqlite3\n",
    "\n",
    "db_path = r'C:\\Users\\francisco.contreras\\Desktop\\jupyter-projects\\notebooks\\APIs\\flask_trazos_v3\\buzon\\instance\\avaluo.db'\n",
    "\n",
    "conn = sqlite3.connect(db_path)\n",
    "conn.row_factory = sqlite3.Row\n",
    "cursor = conn.cursor()\n",
    "\n",
    "cursor.execute(\"SELECT * FROM avaluo_maestro\")\n",
    "registros = cursor.fetchall()\n",
    "\n",
    "for r in registros:\n",
    "    print(dict(r))  # imprime cada registro como diccionario\n",
    "\n",
    "conn.close()\n"
   ]
  }
 ],
 "metadata": {
  "kernelspec": {
   "display_name": "base",
   "language": "python",
   "name": "python3"
  },
  "language_info": {
   "codemirror_mode": {
    "name": "ipython",
    "version": 3
   },
   "file_extension": ".py",
   "mimetype": "text/x-python",
   "name": "python",
   "nbconvert_exporter": "python",
   "pygments_lexer": "ipython3",
   "version": "3.12.7"
  }
 },
 "nbformat": 4,
 "nbformat_minor": 5
}
