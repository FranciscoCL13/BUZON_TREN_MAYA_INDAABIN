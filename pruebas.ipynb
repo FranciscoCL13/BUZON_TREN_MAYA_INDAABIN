{
 "cells": [
  {
   "cell_type": "code",
   "execution_count": 4,
   "id": "aa7867e8",
   "metadata": {},
   "outputs": [],
   "source": [
    "import sqlite3\n",
    "import os\n",
    "\n",
    "# Ruta absoluta o relativa a tu base de datos\n",
    "# db_path = os.path.join('flask_trazos', 'instance', 'database.db')\n",
    "db_path = r'C:\\Users\\francisco.contreras\\Desktop\\jupyter-projects\\notebooks\\APIs\\flask_trazos_v3\\flask_trazos\\instance\\avaluo.db'\n",
    "\n",
    "# Conexión a la base de datos\n",
    "conn = sqlite3.connect(db_path)\n",
    "\n",
    "# Permitir acceder a las columnas como diccionario (opcional pero útil)\n",
    "conn.row_factory = sqlite3.Row\n",
    "\n",
    "# Crear cursor para ejecutar consultas\n",
    "cursor = conn.cursor()\n"
   ]
  },
  {
   "cell_type": "code",
   "execution_count": 7,
   "id": "cb782db3",
   "metadata": {},
   "outputs": [],
   "source": [
    "conn = sqlite3.connect(db_path)\n",
    "conn.row_factory = sqlite3.Row  # permite acceder a los nombres de columna\n",
    "cursor = conn.cursor()"
   ]
  },
  {
   "cell_type": "code",
   "execution_count": 17,
   "id": "39a1edd4",
   "metadata": {},
   "outputs": [
    {
     "name": "stdout",
     "output_type": "stream",
     "text": [
      "Tablas en la base de datos:\n",
      "avaluo_maestro\n",
      "emision_avaluo\n",
      "sqlite_sequence\n"
     ]
    }
   ],
   "source": [
    "import sqlite3\n",
    "\n",
    "db_path = r'C:\\Users\\francisco.contreras\\Desktop\\jupyter-projects\\notebooks\\APIs\\flask_trazos_v3\\buzon\\instance\\avaluo.db'\n",
    "\n",
    "# Abrimos la conexión\n",
    "conn = sqlite3.connect(db_path)\n",
    "cursor = conn.cursor()\n",
    "\n",
    "# Ejecutamos la consulta para obtener nombres de tablas\n",
    "cursor.execute(\"SELECT name FROM sqlite_master WHERE type='table';\")\n",
    "tablas = cursor.fetchall()\n",
    "\n",
    "print(\"Tablas en la base de datos:\")\n",
    "for tabla in tablas:\n",
    "    print(tabla[0])\n",
    "\n",
    "# Cerramos la conexión cuando terminamos\n",
    "conn.close()\n"
   ]
  },
  {
   "cell_type": "code",
   "execution_count": 19,
   "id": "ff994fd4",
   "metadata": {},
   "outputs": [
    {
     "name": "stdout",
     "output_type": "stream",
     "text": [
      "{'id': 1, 'rfc': 'JILE010830512', 'nombre': '1', 'clave': '1', 'fecha': '0001-01-01', 'servidor': '1', 'fuente': '1', 'costo': '1', 'fecha_pago': '0001-01-01', 'comprobante_numero': '1', 'clc_numero': '1', 'archivo_comprobante': 'eacd27a1-a2e6-4293-b11d-c56ede85e7da/EMA_INCIDENCIA.pdf', 'archivo_clc': '078543a1-b55a-4f5a-a79d-8685598ad1ef/VPN_Emanuel_V1.pdf', 'firma_digital': 'WsQoUYoHy/bsrCxzwYP+fe3qVvvOHMUEo8vBpWppJ1p2uqOkGFH9XkXLKgZ5P/fdjPY7D6i2CclTyRpBKOMndxh25rC8cZ1PSpL5R6S9SQaFHDQoWjtcPs0+uUMBYQWCrVL08uS+/lv/HJuJ6czjf8oyVTyvMFzdMbax/2PpSweuPRQgDr6TrCFgHAn0rzVgFE42Bkn4IGkRXrDS+PRkYBELd/3nsWtDgbkoM/SNOyIfWeiKhAIW5qrU7HAbtC6+IEEkzDip2LIGcif6CsWYc91G2wYe9cDa06nXUTFtT+lUumwKfXVUeZ4bOPInN5ihJKWSVN56klOeIsJ/n2ahQA==', 'fecha_firmada': '2025-06-30T22:26:52.558Z'}\n",
      "{'id': 2, 'rfc': 'JILE010830512', 'nombre': '1', 'clave': '1', 'fecha': '0001-01-01', 'servidor': '1', 'fuente': '1', 'costo': '1', 'fecha_pago': '0001-01-01', 'comprobante_numero': '1', 'clc_numero': '1', 'archivo_comprobante': 'e86ed4ca-c48b-4960-9f64-3dd3e3f5d66c/Copia_de_FORMATO_UNIVERSALv1_11.pdf', 'archivo_clc': 'a5e52a32-1a2b-4030-a4bc-0e34d5940e6f/EMA_FORMATO_UNIVERSAL.pdf', 'firma_digital': 'XRLcxbMgUhKrxRsXCLeeAVM3XnJFl3mSdwmWpV2Q9XL/eSFZlALxBaKDLHjp3RUXvzZoWNACRgFrmGJOSOYCY1DIqjXrNkzwXNJgHVWR4qiMtNfFgUXatdwGOjn/MOHXNpGnRHc5dhgchIRjEk0/bfLtjpybt6k99A8bE1crfv3OzYaJUH5tos8D+CwqwVpMUxWx7Cjh8VUpIv4ZgWxh44a6hIuBwaEuZD4y6DRUQKe90dtXQXgt13PAVIRFSsZsPm4YgS299XwdXGtdtnir6SEi53vtthK1gBOmvWHgW5vRRyWB358lcFFwPxvmCeLNXi3XG91bgnAldICkMRkUgA==', 'fecha_firmada': '2025-06-30T22:31:37.121Z'}\n"
     ]
    }
   ],
   "source": [
    "import sqlite3\n",
    "\n",
    "db_path = r'C:\\Users\\francisco.contreras\\Desktop\\jupyter-projects\\notebooks\\APIs\\flask_trazos_v3\\buzon\\instance\\avaluo.db'\n",
    "\n",
    "conn = sqlite3.connect(db_path)\n",
    "conn.row_factory = sqlite3.Row\n",
    "cursor = conn.cursor()\n",
    "\n",
    "cursor.execute(\"SELECT * FROM avaluo_maestro\")\n",
    "registros = cursor.fetchall()\n",
    "\n",
    "for r in registros:\n",
    "    print(dict(r))  # imprime cada registro como diccionario\n",
    "\n",
    "conn.close()\n"
   ]
  }
 ],
 "metadata": {
  "kernelspec": {
   "display_name": "base",
   "language": "python",
   "name": "python3"
  },
  "language_info": {
   "codemirror_mode": {
    "name": "ipython",
    "version": 3
   },
   "file_extension": ".py",
   "mimetype": "text/x-python",
   "name": "python",
   "nbconvert_exporter": "python",
   "pygments_lexer": "ipython3",
   "version": "3.12.7"
  }
 },
 "nbformat": 4,
 "nbformat_minor": 5
}
